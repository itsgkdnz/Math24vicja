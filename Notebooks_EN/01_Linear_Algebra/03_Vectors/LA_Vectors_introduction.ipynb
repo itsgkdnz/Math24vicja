{
  "cells": [
    {
      "cell_type": "markdown",
      "metadata": {
        "id": "0xWWBbnk_zFC"
      },
      "source": [
        "# Vectors - Introduction\n",
        "\n",
        "**Vectors** are quantities that have both magnitude and direction in space. They are used to describe various physical quantities such as velocity, force, or electric field intensity. Unlike scalars, which have only magnitude (e.g., mass, temperature), vectors require a direction to be specified.\n",
        "\n",
        "A vector is represented with an arrow above the symbol $\\vec{a}$ or in bold type $\\mathbf{a}$.\n",
        "- The magnitude of a vector can be written as $\\vec{a}|$ or $a$.\n",
        "- A vector of length 1 is called a unit vector and is denoted by $\\hat{\\mathbf{a}} = \\frac{\\vec{a}}{|\\vec{a}|}$.\n",
        "\n",
        "**Example:**\n",
        "\n",
        "The vector $\\mathbf{a}= [3, 4]$ has a magnitude $a = 5$, and the corresponding unit vector (unit vector along the direction of vector $\\mathbf{a}$) is expressed as $\\hat{\\mathbf{a}} = \\left[\\frac{3}{5}, \\frac{4}{5}\\right]$.\n"
      ]
    },
    {
      "cell_type": "code",
      "execution_count": null,
      "metadata": {
        "id": "ZupC2D5c_zFE",
        "outputId": "c37fa925-623a-4a26-d941-d8cd6c25d6b7"
      },
      "outputs": [
        {
          "data": {
            "text/latex": [
              "$\\displaystyle \\sqrt{a_{x}^{2} + a_{y}^{2}}$"
            ],
            "text/plain": [
              "sqrt(a_x**2 + a_y**2)"
            ]
          },
          "execution_count": 2,
          "metadata": {},
          "output_type": "execute_result"
        }
      ],
      "source": [
        "import sympy as sp  # import the sympy module\n",
        "\n",
        "# For vector $\\mathbf{a} = [a_x, a_y]$, the magnitude is given by the formula:\n",
        "# $$ |\\mathbf{a}| = a = \\sqrt{a_x^2 + a_y^2} $$\n",
        "\n",
        "a_x, a_y = sp.symbols('a_x a_y')  # Step 1: Define symbolic variables a_x and a_y\n",
        "magnitude_a = sp.sqrt(a_x**2 + a_y**2)  # Step 2: Create the formula for the magnitude of vector a\n",
        "magnitude_a  # Step 3: Display the result"
      ]
    },
    {
      "cell_type": "code",
      "execution_count": null,
      "metadata": {
        "id": "DYjKErEg_zFF",
        "outputId": "24d62382-55a1-450e-d0bf-d52661d17061"
      },
      "outputs": [
        {
          "data": {
            "text/latex": [
              "$\\displaystyle 5.0$"
            ],
            "text/plain": [
              "5.00000000000000"
            ]
          },
          "execution_count": 3,
          "metadata": {},
          "output_type": "execute_result"
        }
      ],
      "source": [
        "# Assign values to a_x and a_y\n",
        "a_x = 3  # x component of the vector\n",
        "a_y = 4  # y component of the vector\n",
        "\n",
        "magnitude_a = sp.sqrt(a_x**2 + a_y**2)  # Calculate the magnitude of the vector for a_x = 3 and a_y = 4\n",
        "magnitude_a.evalf()  # Numerically calculate the magnitude of the vector (expected result: 5)"
      ]
    },
    {
      "cell_type": "markdown",
      "metadata": {
        "id": "yGh1cV1u_zFG"
      },
      "source": [
        "## Vector Addition\n",
        "\n",
        "Vector addition involves adding the corresponding components of vectors of the same length.\n",
        "\n",
        "For two vectors $\\mathbf{a}$ and $\\mathbf{b}$ in the space $\\mathbb{R}^n$, where:\n",
        "\n",
        "$$\n",
        "\\mathbf{a} = [a_1, a_2, \\dots, a_n], \\quad \\mathbf{b} = [b_1, b_2, \\dots, b_n]\n",
        "$$\n",
        "\n",
        "Vector addition is defined as follows:\n",
        "\n",
        "$$\n",
        "\\mathbf{a} + \\mathbf{b} = [a_1 + b_1, a_2 + b_2, \\dots, a_n + b_n]\n",
        "$$\n",
        "\n",
        "## Scalar Multiplication of a Vector\n",
        "\n",
        "Scalar multiplication of a vector involves multiplying each component of the vector by the same number.\n",
        "\n",
        "For a vector $\\mathbf{a}$ and a scalar $k$:\n",
        "\n",
        "$$\n",
        "k \\mathbf{a} = [k a_1, k a_2, \\dots, k a_n]\n",
        "$$\n",
        "\n",
        "## Vectors in the Plane and Space\n",
        "\n",
        "**Vectors in 2D:**\n",
        "\n",
        "If $\\mathbf{a} = [a_x, a_y]$, then the magnitude is given by the formula $|\\mathbf{a}| = a = \\sqrt{a_x^2 + a_y^2}$.\n",
        "\n",
        "**Vectors in 3D:**\n",
        "\n",
        "If $\\mathbf{a} = [a_x, a_y, a_z]$, then the magnitude of the vector is $|\\mathbf{a}| = a = \\sqrt{a_x^2 + a_y^2 + a_z^2}$.\n",
        "\n",
        "## Plotting a Vector"
      ]
    },
    {
      "cell_type": "code",
      "execution_count": null,
      "metadata": {
        "id": "nDgUBJcs_zFG",
        "outputId": "27878342-6593-4301-b68d-deb78320ce61"
      },
      "outputs": [
        {
          "data": {
            "image/png": "[encoded data removed]",
            "text/plain": [
              "<Figure size 640x480 with 1 Axes>"
            ]
          },
          "metadata": {},
          "output_type": "display_data"
        }
      ],
      "source": [
        "import matplotlib.pyplot as plt # import the matplotlib.pyplot module\n",
        "\n",
        "plt.figure() # create a new figure\n",
        "plt.quiver(0, 0, 3, 4, angles='xy', scale_units='xy', scale=1, color='r') # quick way to plot a vector quiver(x_start, y_start, x_end, y_end)\n",
        "plt.xlim(0, 5) # set x-axis range\n",
        "plt.ylim(0, 5) # set y-axis range\n",
        "plt.grid(True) # enable grid\n",
        "plt.gca().set_aspect('equal') # set equal scaling on x and y axes\n",
        "plt.show()"
      ]
    },
    {
      "cell_type": "markdown",
      "metadata": {
        "id": "aednheMo_zFG"
      },
      "source": [
        "## Example of Simple Vector Implementation in Python\n",
        "\n",
        "Given vectors $\\mathbf{a}=[1, 2]$ and $\\mathbf{b}=[3, 4]$, we want to calculate their sum $\\mathbf{c}=\\mathbf{a}+\\mathbf{b}= [1+3, 2+4] = [4, 6]$"
      ]
    },
    {
      "cell_type": "code",
      "execution_count": null,
      "metadata": {
        "id": "2p2jR8li_zFG",
        "outputId": "67875c40-6b91-40bb-c812-b415f6075a9e"
      },
      "outputs": [
        {
          "data": {
            "text/plain": [
              "[4, 6]"
            ]
          },
          "execution_count": 5,
          "metadata": {},
          "output_type": "execute_result"
        }
      ],
      "source": [
        "import sympy as sp # import the sympy module\n",
        "\n",
        "a=[1, 2] # vector a\n",
        "b=[3, 4] # vector b\n",
        "c = [a[0] + b[0], a[1] + b[1]] # sum of vectors a and b\n",
        "c # display the result"
      ]
    },
    {
      "cell_type": "markdown",
      "metadata": {
        "id": "cyy7FSOj_zFG"
      },
      "source": [
        "## Example of Better Vector Implementation in Python\n",
        "\n",
        "Vectors are represented as column matrices. Then vector addition is the same as matrix addition."
      ]
    },
    {
      "cell_type": "code",
      "execution_count": null,
      "metadata": {
        "id": "_XpHDp_Q_zFH",
        "outputId": "781c75c8-5379-4569-85ed-a73be4366c33"
      },
      "outputs": [
        {
          "data": {
            "text/latex": [
              "$\\displaystyle \\left[\\begin{matrix}12\\\\5\\\\18\\end{matrix}\\right]$"
            ],
            "text/plain": [
              "Matrix([\n",
              "[12],\n",
              "[ 5],\n",
              "[18]])"
            ]
          },
          "execution_count": 6,
          "metadata": {},
          "output_type": "execute_result"
        }
      ],
      "source": [
        "import sympy as sp\n",
        "\n",
        "# Vector definitions\n",
        "a = sp.Matrix([1, 2, 3])\n",
        "b = sp.Matrix([4, 5, 6])\n",
        "c = sp.Matrix([7, 0, 9])\n",
        "d = sp.Matrix([0, 2, 0])\n",
        "\n",
        "a + b + c - d # An operation involving addition and subtraction of vectors"
      ]
    },
    {
      "cell_type": "markdown",
      "metadata": {
        "id": "2XqtbxQZ_zFH"
      },
      "source": [
        "## Plotting Vector Addition\n",
        "\n",
        "Example: $\\mathbf{a}=[2,1]$ and $\\mathbf{b}=[1,2]$ results in vector $\\mathbf{c}=\\mathbf{a}+\\mathbf{b}=[3,3]$."
      ]
    },
    {
      "cell_type": "code",
      "execution_count": null,
      "metadata": {
        "id": "SlXHGPQr_zFH",
        "outputId": "4ca96a2d-f536-4d6c-a8a1-23bea8c82d7b"
      },
      "outputs": [
        {
          "data": {
            "image/png": "[encoded data removed]",
            "text/plain": [
              "<Figure size 640x480 with 1 Axes>"
            ]
          },
          "metadata": {},
          "output_type": "display_data"
        }
      ],
      "source": [
        "import matplotlib.pyplot as plt # import the matplotlib.pyplot module #example of vector addition in two-dimensional space\n",
        "\n",
        "plt.figure() # create a new figure\n",
        "plt.quiver(0, 0, 2, 1, angles='xy', scale_units='xy', scale=1, color='r') # quick way to plot vectors quiver(x_start, y_start, x_end, y_end)\n",
        "plt.quiver(0, 0, 1, 2, angles='xy', scale_units='xy', scale=1, color='b') # quick way to plot vectors quiver(x_start, y_start, x_end, y_end)\n",
        "plt.quiver(0, 0, 3, 3, angles='xy', scale_units='xy', scale=1, color='g') # quick way to plot vectors quiver(x_start, y_start, x_end, y_end)\n",
        "plt.xlim(-1, 4) # set x-axis range\n",
        "plt.ylim(-1, 4) # set y-axis range\n",
        "plt.grid(True) # enable grid\n",
        "plt.gca().set_aspect('equal') # set equal scaling on x and y axes\n",
        "plt.show()"
      ]
    },
    {
      "cell_type": "markdown",
      "metadata": {
        "id": "SB-N1EXA_zFH"
      },
      "source": [
        "## Coordinate Systems in the Plane and Space\n",
        "\n",
        "**Cartesian Coordinate System** is the basic coordinate system in which points in space are specified by their distances from fixed axes: $x$, $y$ (for 2D) and $z$ (for 3D).\n",
        "\n",
        "- In 2D, each point can be written as $(x, y)$.\n",
        "- In 3D, points are of the form $(x, y, z)$.\n",
        "\n",
        "**Polar Coordinate System** is used in 2D and defines a point by its distance from the origin (r) and the angle (θ) relative to the reference axis.\n",
        "\n",
        "**Spherical Coordinate System** is used in 3D and defines a point by its distance from the origin (r), azimuth angle (θ), and elevation angle (φ).\n",
        "\n",
        "Vectors can be represented using components in the Cartesian coordinate system, where each component corresponds to the distance of the point from the respective coordinate axis.\n",
        "\n",
        "- For a vector in two-dimensional space: $\\mathbf{a} = [a_x, a_y] = a_x\\hat{\\mathbf{i}} + a_y\\hat{\\mathbf{j}}$\n",
        "- For a vector in three-dimensional space: $\\mathbf{a} = [a_x, a_y, a_z] = a_x\\hat{\\mathbf{i}} + a_y\\hat{\\mathbf{j}} + a_z\\hat{\\mathbf{k}}$\n",
        "\n",
        "## Basis\n",
        "\n",
        "**Basis** of vectors is a set of vectors that spans a vector space. In Cartesian space, the standard basis vectors are $\\hat{\\mathbf{i}}, \\hat{\\mathbf{j}}, \\hat{\\mathbf{k}}$.\n",
        "\n",
        "For 2D:\n",
        "\n",
        "$$\n",
        "\\hat{\\mathbf{i}} = [1, 0], \\quad \\hat{\\mathbf{j}} = [0, 1]\n",
        "$$\n",
        "\n",
        "For 3D:\n",
        "\n",
        "$$\n",
        "\\hat{\\mathbf{i}} = [1, 0, 0], \\quad \\hat{\\mathbf{j}} = [0, 1, 0], \\quad \\hat{\\mathbf{k}} = [0, 0, 1]\n",
        "$$\n",
        "\n",
        "These basis vectors are unit vectors and are perpendicular to each other.\n",
        "\n",
        "### Finding the Coordinates of a Vector in a New Basis\n",
        "\n",
        "To find the coordinates of vector $\\mathbf{v}$ in a new basis $\\{\\mathbf{b_1}, \\mathbf{b_2}, \\mathbf{b_3}\\}$, express $\\mathbf{v}$ as a linear combination of the basis vectors.\n",
        "\n",
        "$$\n",
        "\\mathbf{v} = c_1 \\mathbf{b_1} + c_2 \\mathbf{b_2} + c_3 \\mathbf{b_3}\n",
        "$$\n",
        "\n",
        "The coefficients $c_1, c_2, c_3$ are the coordinates of vector $\\mathbf{v}$ in the new basis.\n",
        "\n",
        "---\n",
        "\n",
        "## Student Exercises\n",
        "\n",
        "A. By what number should vector $\\mathbf{a} = [3, 4]$ be multiplied so that its length is equal to 1?\n",
        "\n",
        "B. Calculate the length of vector $\\mathbf{b} = [1, 1]$ and find the unit vector of this vector.\n",
        "\n",
        "C. Plot the vector and the unit vector from the previous exercise.\n",
        "\n",
        "D. Calculate the length of vector $\\mathbf{c} = [1, 2, 3]$ and find the unit vector of this vector.\n",
        "\n",
        "E. Find the Cartesian coordinates of vector $\\mathbf{v} = [2, 3, 4]$ in the basis $\\{\\mathbf{b_1} = [1, 0, 1], \\mathbf{b_2} = [0, 1, 0], \\mathbf{b_3} = [1, 0, -1]\\}$."
      ]
    },
    {
      "cell_type": "markdown",
      "source": [
        "# Excersize A :\n",
        "\n",
        "\n",
        "# Step 1 :\n",
        "We know vector a=[3,4]\n",
        "\n",
        "but we yet to know its magnitude, so we have to calculate it using this formula;\n",
        "<br>\n",
        "\n",
        "$||a||$ = $\\sqrt({x}² + {y}²)$\n",
        "\n",
        "<br>\n",
        "\n",
        "\n",
        "When we place the values into necessary elements we get this;\n",
        "<br>\n",
        "\n",
        "\n",
        "$||a||$ = $\\sqrt({3}² + {4}²)$\n",
        "\n",
        "<br>\n",
        "\n",
        "\n",
        "and from this we get;\n",
        "\n",
        "\n",
        "$||a||$ = $\\sqrt(9 + 16)$ whic is equalt to $\\sqrt(25)$\n",
        "\n",
        "which equals to 5\n",
        "\n",
        "<br>\n",
        "\n",
        "\n",
        "# Step 2 :\n",
        "Now lets set up the equation for the desired magnitude.\n",
        "\n",
        "<br>\n",
        "We want the vector <b> b.a </b>to have a magnitude of 1. So\n",
        "\n",
        "<br>\n",
        "\n",
        "$||b.a|| = 1$\n",
        "\n",
        "\n",
        "\n",
        "\n",
        "<br>\n",
        "\n",
        "since $||b.a||$ = $||b||$. $||a||$ we can substitute the magnitude of\n",
        "<b>a</b> we just calculated:\n",
        "\n",
        "<br>\n",
        "$||b||$ . $5$ $=$ $1$\n",
        "\n",
        "\n",
        "<br>\n",
        "$||b||= \\frac{1}{5}$\n",
        "\n",
        "\n",
        "<br>\n",
        " <b> b </b> = $\\frac{1}{5}$\n",
        "\n",
        "\n",
        "# Conclusion\n",
        "\n",
        "To make the vector\n",
        "𝑎\n",
        "=\n",
        "[\n",
        "3\n",
        ",\n",
        "4\n",
        "]\n",
        "a=[3,4] have a length of 1, it should be multiplied by $\\frac{1}{5}$.\n",
        "\n",
        "\n",
        "\n",
        "\n",
        "\n",
        "\n"
      ],
      "metadata": {
        "id": "sakCRMGYOs1e"
      }
    },
    {
      "cell_type": "code",
      "source": [
        "import numpy as np\n",
        "#Exercise A\n",
        "\n",
        "# Vector a\n",
        "a = np.array([3, 4])\n",
        "\n",
        "# magnitude of vector a\n",
        "magnitude = np.sqrt(a[0]**2 + a[1]**2)\n",
        "\n",
        "# Calculate the scalar to multiply by to make the magnitude 1\n",
        "b = 1 / magnitude\n",
        "\n",
        "# Multiply the vector by the scalar\n",
        "a_normalized = b * a\n",
        "\n",
        "print(f\"Vector: 𝒂 = [{a[0]}, {a[1]}]\")\n",
        "print(f\"Magnitude of 𝒂: ‖𝒂‖ = √({a[0]}² + {a[1]}²) = {magnitude}\")\n",
        "print(f\"Scalar (b) needed to make ‖b𝒂‖ = 1: 𝑘 = 1 / ‖𝒂‖ = 1 / {magnitude} = {b}\")\n",
        "print(f\"Normalized vector: b𝒂 = [{a_normalized[0]}, {a_normalized[1]}]\")\n",
        "print(f\"New magnitude of b𝒂: ‖b𝒂‖ = {np.linalg.norm(a_normalized)}\")\n"
      ],
      "metadata": {
        "colab": {
          "base_uri": "https://localhost:8080/"
        },
        "id": "0rkamlJm_7vZ",
        "outputId": "7b6a0c24-7e37-4ba8-a5a7-42c8690dfb02"
      },
      "execution_count": 11,
      "outputs": [
        {
          "output_type": "stream",
          "name": "stdout",
          "text": [
            "Vector: 𝒂 = [3, 4]\n",
            "Magnitude of 𝒂: ‖𝒂‖ = √(3² + 4²) = 5.0\n",
            "Scalar (b) needed to make ‖b𝒂‖ = 1: 𝑘 = 1 / ‖𝒂‖ = 1 / 5.0 = 0.2\n",
            "Normalized vector: b𝒂 = [0.6000000000000001, 0.8]\n",
            "New magnitude of b𝒂: ‖b𝒂‖ = 1.0\n"
          ]
        }
      ]
    },
    {
      "cell_type": "code",
      "source": [
        "import numpy as np\n",
        "#Excercise B"
      ],
      "metadata": {
        "id": "ROepfqK0GE_J"
      },
      "execution_count": 7,
      "outputs": []
    },
    {
      "cell_type": "code",
      "source": [
        "#VEctor b\n",
        "b = np.array([1, 1])\n",
        "\n",
        "# magnitude of vector b\n",
        "magnitude = np.sqrt(b[0]**2 + b[1]**2)\n",
        "\n",
        "#Dividing vector by its magnitude\n",
        "u = b / magnitude\n",
        "\n",
        "print(f\"Vector: 𝒃 = [{b[0]}, {b[1]}]\")\n",
        "print(f\"Magnitude of 𝒃: ‖𝒃‖ = √({b[0]}² + {b[1]}²) = {magnitude}\")\n",
        "print(f\"Unit vector: 𝒖 = 𝒃 / ‖𝒃‖ = [{u[0]}, {u[1]}]\")\n",
        "print(f\"New magnitude of 𝒖: ‖𝒖‖ = {np.linalg.norm(u)}\")"
      ],
      "metadata": {
        "colab": {
          "base_uri": "https://localhost:8080/"
        },
        "id": "bDfiTJxZGKyH",
        "outputId": "29b35f91-2c5d-4b6d-d66c-633d962e9957"
      },
      "execution_count": 8,
      "outputs": [
        {
          "output_type": "stream",
          "name": "stdout",
          "text": [
            "Vector: 𝒃 = [1, 1]\n",
            "Magnitude of 𝒃: ‖𝒃‖ = √(1² + 1²) = 1.4142135623730951\n",
            "Unit vector: 𝒖 = 𝒃 / ‖𝒃‖ = [0.7071067811865475, 0.7071067811865475]\n",
            "New magnitude of 𝒖: ‖𝒖‖ = 0.9999999999999999\n"
          ]
        }
      ]
    },
    {
      "cell_type": "code",
      "source": [
        "import numpy as np\n",
        "import matplotlib.pyplot as plt\n",
        "\n",
        "# Vectors and their unit vectors\n",
        "a = np.array([3, 4])\n",
        "u_a = np.array([0.6, 0.8])  # Unit vector of a\n",
        "b = np.array([1, 1])\n",
        "u_b = np.array([0.7071, 0.7071])  # Unit vector of b\n",
        "\n",
        "plt.figure()\n",
        "\n",
        "# Plot vector a starting at (0, 0)\n",
        "plt.quiver(0, 0, a[0], a[1], angles='xy', scale_units='xy', scale=1, color='r', label='Vector a')\n",
        "\n",
        "# Plot unit vector u_a starting at (0, 0)\n",
        "plt.quiver(0, 0, u_a[0], u_a[1], angles='xy', scale_units='xy', scale=1, color='c', label='Unit vector of a')\n",
        "\n",
        "# Plot vector b starting at (0, 0)\n",
        "plt.quiver(0, 0, b[0], b[1], angles='xy', scale_units='xy', scale=1, color='g', label='Vector b')\n",
        "\n",
        "# Plot unit vector u_b starting at (0, 0)\n",
        "plt.quiver(0, 0, u_b[0], u_b[1], angles='xy', scale_units='xy', scale=1, color='b', label='Unit vector of b')\n",
        "\n",
        "plt.xlabel('x axis')\n",
        "plt.ylabel('y axis')\n",
        "plt.title('Vector and Unit Vector Plot')\n",
        "plt.legend()\n",
        "plt.grid(True)\n",
        "plt.gca().set_aspect('equal')\n",
        "\n",
        "# Add origin lines (adjust limits to make them visible)\n",
        "plt.axhline(0, color='black', linewidth=0.5)\n",
        "plt.axvline(0, color='black', linewidth=0.5)\n",
        "\n",
        "# Calculate limits to center the origin\n",
        "max_value = np.max([np.max(np.abs(a)), np.max(np.abs(b)), np.max(np.abs(u_a)), np.max(np.abs(u_b))])\n",
        "plt.xlim(-max_value, max_value)\n",
        "plt.ylim(-max_value, max_value)\n",
        "\n",
        "plt.show()"
      ],
      "metadata": {
        "colab": {
          "base_uri": "https://localhost:8080/",
          "height": 472
        },
        "id": "kNjx9aoHOcmz",
        "outputId": "ed21b0cf-671b-4269-a5fb-1ab04b940f33"
      },
      "execution_count": 19,
      "outputs": [
        {
          "output_type": "display_data",
          "data": {
            "text/plain": [
              "<Figure size 640x480 with 1 Axes>"
            ],
            "image/png": "[encoded data removed]"
          },
          "metadata": {}
        }
      ]
    }
  ],
  "metadata": {
    "kernelspec": {
      "display_name": ".venv",
      "language": "python",
      "name": "python3"
    },
    "language_info": {
      "codemirror_mode": {
        "name": "ipython",
        "version": 3
      },
      "file_extension": ".py",
      "mimetype": "text/x-python",
      "name": "python",
      "nbconvert_exporter": "python",
      "pygments_lexer": "ipython3",
      "version": "3.11.9"
    },
    "colab": {
      "provenance": []
    }
  },
  "nbformat": 4,
  "nbformat_minor": 0
}